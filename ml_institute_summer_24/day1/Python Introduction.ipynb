{
 "cells": [
  {
   "cell_type": "markdown",
   "metadata": {},
   "source": [
    "<!-- ![](https://www.python.org/static/img/python-logo.png) -->\n",
    "\n",
    "# Introduction to Python \n",
    "\n",
    "In this notebook, we will demo the basic functionality of Python programming language. \n",
    "\n",
    "\n",
    "## Why Python? \n",
    "\n",
    "Python has become one of the most popular languages, particularly in the data and computational science.  Below is an image from [Stackoverflow](https://insights.stackoverflow.com/trends?tags=java%2Cc%2Cc%2B%2B%2Cpython%2Cc%23%2Cvb.net%2Cjavascript%2Cassembly%2Cphp%2Cperl%2Cruby%2Cswift%2Cr%2Cobjective-c).\n",
    "\n",
    "<!-- <img src='img/stackoverflow_trends.png' width=600 /> -->\n",
    "\n",
    "![](img/stackoverflow_trends.png)\n",
    "\n",
    "Here are some reason for pythons popularity:\n",
    "\n",
    "1. Easy to learn and use \n",
    "2. Supports various programming styles (OOP, functional, procedural)\n",
    "3. Most of Python's utility comes from extensive collection of libraries/modules.  For example, matplotlib is a library used for data visualizations. We will cover some of the most popular libraries soon.  \n",
    "\n",
    "## Importing modules "
   ]
  },
  {
   "cell_type": "code",
   "execution_count": null,
   "metadata": {},
   "outputs": [],
   "source": [
    "# Importing a module \n",
    "import numpy"
   ]
  },
  {
   "cell_type": "code",
   "execution_count": null,
   "metadata": {},
   "outputs": [],
   "source": [
    "# accessing a modules parameters\n",
    "numpy.pi"
   ]
  },
  {
   "cell_type": "markdown",
   "metadata": {},
   "source": [
    "## Comments "
   ]
  },
  {
   "cell_type": "code",
   "execution_count": null,
   "metadata": {},
   "outputs": [],
   "source": [
    "# This is a single line comment\n",
    "\"\"\"\n",
    "This is a\n",
    "multiline comment\n",
    "\"\"\""
   ]
  },
  {
   "cell_type": "markdown",
   "metadata": {},
   "source": [
    "## Print Statements"
   ]
  },
  {
   "cell_type": "code",
   "execution_count": null,
   "metadata": {},
   "outputs": [],
   "source": [
    "print(\"hello world\")"
   ]
  },
  {
   "cell_type": "markdown",
   "metadata": {},
   "source": [
    "# Python Data Types \n",
    "\n",
    "## Basic Variable Types \n",
    "\n",
    "The basic data types in python are \n",
    "\n",
    "- integers\n",
    "- floats \n",
    "- strings\n",
    "- booleans\n",
    "- complex\n",
    "\n",
    "Python data types are dynamically inferred. Python distinguishes between integers and floats by whether the number contains a decimal place."
   ]
  },
  {
   "cell_type": "code",
   "execution_count": null,
   "metadata": {},
   "outputs": [],
   "source": [
    "# Integer\n",
    "x = 10\n",
    "# Float\n",
    "y = 10.\n",
    "# String\n",
    "z = \"hello\"\n",
    "# Boolean\n",
    "a = True\n",
    "\n",
    "type(x),type(y),type(z),type(a)"
   ]
  },
  {
   "cell_type": "markdown",
   "metadata": {},
   "source": [
    "## Collections: List, Tuple, Dictionary\n",
    "\n",
    "### List\n",
    "\n",
    "A list is a collection of objects (int, floats, string, any other python object):\n",
    "- ordered\n",
    "- changeable"
   ]
  },
  {
   "cell_type": "code",
   "execution_count": null,
   "metadata": {},
   "outputs": [],
   "source": [
    "example_list = [ \"one\", 2, 3. ]"
   ]
  },
  {
   "cell_type": "markdown",
   "metadata": {},
   "source": [
    "List elements are indexed starting at zero.  You can access elements as follows:"
   ]
  },
  {
   "cell_type": "code",
   "execution_count": null,
   "metadata": {},
   "outputs": [],
   "source": [
    "example_list[2]"
   ]
  },
  {
   "cell_type": "markdown",
   "metadata": {},
   "source": [
    "Lists are changeable, so we can do things like append a new value to the end of a list."
   ]
  },
  {
   "cell_type": "code",
   "execution_count": null,
   "metadata": {},
   "outputs": [],
   "source": [
    "example_list.append(\"four\")\n",
    "example_list"
   ]
  },
  {
   "cell_type": "markdown",
   "metadata": {},
   "source": [
    "We can also compute the length of a list:"
   ]
  },
  {
   "cell_type": "code",
   "execution_count": null,
   "metadata": {},
   "outputs": [],
   "source": [
    "len(example_list)"
   ]
  },
  {
   "cell_type": "markdown",
   "metadata": {},
   "source": [
    "### Tuple\n",
    "\n",
    "Tuples are similar to list, but the are immutable.  That is, tuples are  \n",
    "- ordered  \n",
    "- unchangable"
   ]
  },
  {
   "cell_type": "code",
   "execution_count": null,
   "metadata": {},
   "outputs": [],
   "source": [
    "# Tuple\n",
    "example_tuple = (1, 2, 3)"
   ]
  },
  {
   "cell_type": "code",
   "execution_count": null,
   "metadata": {},
   "outputs": [],
   "source": [
    "# Tuple : access element\n",
    "example_tuple[1]"
   ]
  },
  {
   "cell_type": "code",
   "execution_count": null,
   "metadata": {},
   "outputs": [],
   "source": [
    "# Get length of tuple\n",
    "len(example_tuple)"
   ]
  },
  {
   "cell_type": "code",
   "execution_count": null,
   "metadata": {},
   "outputs": [],
   "source": [
    "# Tuple : no append method i.e immutable\n",
    "#example_tuple.append(4)"
   ]
  },
  {
   "cell_type": "markdown",
   "metadata": {},
   "source": [
    "### Dictionary\n",
    "\n",
    "Dictinaries store data as key:value pairs.  You can access elements in a dictionary via the key."
   ]
  },
  {
   "cell_type": "code",
   "execution_count": null,
   "metadata": {},
   "outputs": [],
   "source": [
    "# Dictionary {Key:Value, Key:Value....}\n",
    "example_dictionary = {\"a\":1, \"b\":2, \"c\":3}"
   ]
  },
  {
   "cell_type": "code",
   "execution_count": null,
   "metadata": {},
   "outputs": [],
   "source": [
    "# Dictionary : access element by key\n",
    "example_dictionary[\"c\"]"
   ]
  },
  {
   "cell_type": "code",
   "execution_count": null,
   "metadata": {},
   "outputs": [],
   "source": [
    "# Add new element\n",
    "example_dictionary[\"d\"]=4\n",
    "print(example_dictionary)\n",
    "\n",
    "# Get length of dictionary\n",
    "print(len(example_dictionary))"
   ]
  },
  {
   "cell_type": "markdown",
   "metadata": {},
   "source": [
    "## Final Comments on Python Data Types\n",
    "\n",
    "Everything in python is an object.  That means that all data types have there on methods that manipulate the object.  For example, append() is a method for the list data type. Here is another example."
   ]
  },
  {
   "cell_type": "code",
   "execution_count": null,
   "metadata": {},
   "outputs": [],
   "source": [
    "example_dictionary.keys()"
   ]
  },
  {
   "cell_type": "markdown",
   "metadata": {},
   "source": [
    "# Control Flow\n",
    "\n",
    "Before we demo python's control flow syntax, lets point out a few things about Python's syntax:\n",
    "\n",
    "- Indentations matter in python; they specify code block boundaries\n",
    "\n",
    "We will use the following list in the control flow demos:"
   ]
  },
  {
   "cell_type": "code",
   "execution_count": null,
   "metadata": {},
   "outputs": [],
   "source": [
    "example_list = [1,2,3,4]"
   ]
  },
  {
   "cell_type": "markdown",
   "metadata": {},
   "source": [
    "Before we demo the if/else syntax, below I highlight additional syntax included in this demo"
   ]
  },
  {
   "cell_type": "code",
   "execution_count": null,
   "metadata": {},
   "outputs": [],
   "source": [
    "3==0 # boolean operater == asks if elements are the same "
   ]
  },
  {
   "cell_type": "code",
   "execution_count": null,
   "metadata": {},
   "outputs": [],
   "source": [
    "4%2  # arithmetic: % is the remainder"
   ]
  },
  {
   "cell_type": "markdown",
   "metadata": {},
   "source": [
    "## if/else statements\n",
    "\n",
    "In the demo below, I determine if there are no elements in the list or if there are even or odd number of elements."
   ]
  },
  {
   "cell_type": "code",
   "execution_count": null,
   "metadata": {},
   "outputs": [],
   "source": [
    "if len(example_list)==0:  # boolean operater == asks if elements are the same \n",
    "    print(\"empty list\")\n",
    "elif len(example_list)%2==0:\n",
    "    print(\"Even number of elements\")\n",
    "    print(\"!\")\n",
    "else:\n",
    "    print(\"Odd number of elements\") "
   ]
  },
  {
   "cell_type": "markdown",
   "metadata": {},
   "source": [
    "## For loop : Print even index elements of the list\n",
    "\n",
    "In the demo below I print the even index elements of the list"
   ]
  },
  {
   "cell_type": "code",
   "execution_count": null,
   "metadata": {},
   "outputs": [],
   "source": [
    "for element in example_list:\n",
    "    if example_list.index(element)%2==0:\n",
    "        print(element)\n",
    "    else:\n",
    "        # pass does nothing\n",
    "        pass\n",
    "    print('test')"
   ]
  },
  {
   "cell_type": "markdown",
   "metadata": {},
   "source": [
    "## While loop : Search for \"x\" in list"
   ]
  },
  {
   "cell_type": "code",
   "execution_count": null,
   "metadata": {},
   "outputs": [],
   "source": [
    "example_list.append(\"x\")\n",
    "example_list"
   ]
  },
  {
   "cell_type": "code",
   "execution_count": null,
   "metadata": {},
   "outputs": [],
   "source": [
    "index=0\n",
    "while index<len(example_list):\n",
    "    if example_list[index] == \"x\":\n",
    "        print(\"Found element x\")\n",
    "        break\n",
    "    else:\n",
    "        index+=1\n",
    "        continue \n",
    "    print('test')"
   ]
  },
  {
   "cell_type": "markdown",
   "metadata": {},
   "source": [
    "## Defining Functions\n",
    "\n",
    "Below we define a function to search a list for an element and return its index if found and -1 if not found.  "
   ]
  },
  {
   "cell_type": "code",
   "execution_count": null,
   "metadata": {},
   "outputs": [],
   "source": [
    "def print_name(name):\n",
    "    print('My name is {}'.format(name))\n",
    "    \n",
    "print_name('bob')"
   ]
  },
  {
   "cell_type": "code",
   "execution_count": null,
   "metadata": {},
   "outputs": [],
   "source": [
    "def search_list_for_element(element, search_list):\n",
    "    index=0\n",
    "    while index < len(search_list):\n",
    "        if search_list[index] == element:\n",
    "            break\n",
    "        else:\n",
    "            index+=1\n",
    "            continue\n",
    "    #If index is less than length, element is found\n",
    "    if index < len(search_list):\n",
    "        return index\n",
    "    else:\n",
    "        return -1"
   ]
  },
  {
   "cell_type": "code",
   "execution_count": null,
   "metadata": {},
   "outputs": [],
   "source": [
    "example_list"
   ]
  },
  {
   "cell_type": "code",
   "execution_count": null,
   "metadata": {},
   "outputs": [],
   "source": [
    "#search_list_for_element('z', example_list)\n",
    "search_list_for_element('x', example_list)"
   ]
  },
  {
   "cell_type": "markdown",
   "metadata": {},
   "source": [
    "## Lambda Functions"
   ]
  },
  {
   "cell_type": "code",
   "execution_count": null,
   "metadata": {},
   "outputs": [],
   "source": [
    "def y(x):\n",
    "    return x**3"
   ]
  },
  {
   "cell_type": "code",
   "execution_count": null,
   "metadata": {},
   "outputs": [],
   "source": [
    "#Lambdas\n",
    "y = lambda x:x**3\n",
    "print(y(3))\n",
    "\n",
    "z = (lambda x,y: x**y)\n",
    "print(z(3,3))\n",
    "\n",
    "#anonymous\n",
    "print((lambda x,y: x**y)(3,3))"
   ]
  },
  {
   "cell_type": "markdown",
   "metadata": {},
   "source": [
    "## Exercise: Vector Dot Product\n",
    "\n",
    "Write a function to compute a vector dot product of 2 lists: \n",
    "- Define a function dot(x,y) that accepts 2 lists as arguments.  \n",
    "- Check if length of both lists are equal using len() function. If they are not equal print a message and return -1\n",
    "- Generate the range of indices to iterate over\n",
    "- Return the value of the dot product\n",
    "\n",
    "Then, test it!\n",
    "- Define 2 lists a=[1,2,3,4,5] and b=[6,7,8,9,10]\n",
    "- Compute Dot Product with your function\n",
    "- Print result\n"
   ]
  },
  {
   "cell_type": "code",
   "execution_count": null,
   "metadata": {},
   "outputs": [],
   "source": [
    "def dot(x,y):\n",
    "    #check if both lists are equal length\n",
    "    if len(x) == len(y):\n",
    "        # empty list\n",
    "        result_list = list()\n",
    "        #index\n",
    "        index = 0\n",
    "        #iterate through 2 lists\n",
    "        while index < len(x):\n",
    "            result_list.append(x[index]*y[index])\n",
    "            index+=1   \n",
    "        return sum(result_list)\n",
    "    else:\n",
    "        print(\"Error: Lists of unequal length given\")\n",
    "        return -1\n",
    "\n",
    "a=list(range(1,6,1))\n",
    "    \n",
    "b=[6,7,8,9,10]\n",
    "                             \n",
    "print(a, b, dot(a,b))"
   ]
  },
  {
   "cell_type": "code",
   "execution_count": null,
   "metadata": {},
   "outputs": [],
   "source": []
  },
  {
   "cell_type": "markdown",
   "metadata": {},
   "source": [
    "# Optional: Basic I/O\n",
    "\n",
    "Below we demo the syntax for input/output (I/O) operations. "
   ]
  },
  {
   "cell_type": "code",
   "execution_count": null,
   "metadata": {},
   "outputs": [],
   "source": [
    "file_path = 'data/8M_book.txt'"
   ]
  },
  {
   "cell_type": "markdown",
   "metadata": {},
   "source": [
    "Below we open he file 8M_book.txt."
   ]
  },
  {
   "cell_type": "code",
   "execution_count": null,
   "metadata": {},
   "outputs": [],
   "source": [
    "file_object = open(file_path, \"r\")"
   ]
  },
  {
   "cell_type": "code",
   "execution_count": null,
   "metadata": {},
   "outputs": [],
   "source": [
    "# Access file object attribute\n",
    "file_object.name"
   ]
  },
  {
   "cell_type": "code",
   "execution_count": null,
   "metadata": {},
   "outputs": [],
   "source": [
    "# read first 20 bytes\n",
    "first_n_bytes = file_object.read(20)\n",
    "first_n_bytes"
   ]
  },
  {
   "cell_type": "code",
   "execution_count": null,
   "metadata": {},
   "outputs": [],
   "source": [
    "# tell file read pointer position\n",
    "print(file_object.tell())"
   ]
  },
  {
   "cell_type": "code",
   "execution_count": null,
   "metadata": {},
   "outputs": [],
   "source": [
    "# seek back to zero\n",
    "file_object.seek(0)"
   ]
  },
  {
   "cell_type": "code",
   "execution_count": null,
   "metadata": {},
   "outputs": [],
   "source": [
    "#read a line\n",
    "line = file_object.readline()"
   ]
  },
  {
   "cell_type": "code",
   "execution_count": null,
   "metadata": {},
   "outputs": [],
   "source": [
    "# tell file read pointer position\n",
    "print(file_object.tell())"
   ]
  },
  {
   "cell_type": "code",
   "execution_count": null,
   "metadata": {},
   "outputs": [],
   "source": [
    "#file close\n",
    "file_object.close()"
   ]
  },
  {
   "cell_type": "markdown",
   "metadata": {},
   "source": [
    "## Line Count"
   ]
  },
  {
   "cell_type": "code",
   "execution_count": null,
   "metadata": {},
   "outputs": [],
   "source": [
    "file_path = 'data/8M_book.txt'"
   ]
  },
  {
   "cell_type": "code",
   "execution_count": null,
   "metadata": {},
   "outputs": [],
   "source": [
    "\n",
    "# define a function to count number of lines in a file\n",
    "#input: open file object, with seek position 0\n",
    "#output: number of lines in the file\n",
    "def count_number_of_lines(f):\n",
    "    #read a line\n",
    "    line = f.readline()\n",
    "    #initiate line count\n",
    "    if line:\n",
    "        line_count=1\n",
    "    else:\n",
    "        line_count=0\n",
    "    #iterate through each line of file\n",
    "    while line:\n",
    "        line_count+=1\n",
    "        line = f.readline()\n",
    "    return line_count\n",
    "\n",
    "# Open a file\n",
    "file_object = open(file_path, \"r\")\n",
    "\n",
    "print(count_number_of_lines(file_object))\n",
    "\n",
    "#file close\n",
    "file_object.close()"
   ]
  },
  {
   "cell_type": "code",
   "execution_count": null,
   "metadata": {},
   "outputs": [],
   "source": []
  },
  {
   "cell_type": "code",
   "execution_count": null,
   "metadata": {},
   "outputs": [],
   "source": []
  }
 ],
 "metadata": {
  "kernelspec": {
   "display_name": "cnn_course_container",
   "language": "python",
   "name": "cnn_course_container"
  },
  "language_info": {
   "codemirror_mode": {
    "name": "ipython",
    "version": 3
   },
   "file_extension": ".py",
   "mimetype": "text/x-python",
   "name": "python",
   "nbconvert_exporter": "python",
   "pygments_lexer": "ipython3",
   "version": "3.10.12"
  },
  "toc": {
   "base_numbering": 1,
   "nav_menu": {},
   "number_sections": true,
   "sideBar": true,
   "skip_h1_title": false,
   "title_cell": "Table of Contents",
   "title_sidebar": "Contents",
   "toc_cell": false,
   "toc_position": {},
   "toc_section_display": true,
   "toc_window_display": false
  }
 },
 "nbformat": 4,
 "nbformat_minor": 2
}
