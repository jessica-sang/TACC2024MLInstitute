{
 "cells": [
  {
   "cell_type": "markdown",
   "metadata": {},
   "source": [
    "# Python Packages for Machine Learning \n",
    "\n",
    "![](https://miro.medium.com/max/633/1*Y2v3PrF1rUQRUHwOcXJznA.png)\n",
    "\n",
    "\n",
    "## TOC \n",
    "\n",
    "1. [Numpy](#numpy)\n",
    "2. [Matplotlib](#matplotlib)\n",
    "3. [Pandas](#pandas)\n",
    "4. [Scikit-learn](#scikit-learn)\n",
    "5. [Dask](#dask)\n",
    "\n",
    "\n",
    "<a id='numpy'></a>\n",
    "\n",
    "# Numpy \n",
    "\n",
    "NumPy is short for **Num**erical **Py**thon:\n",
    "\n",
    "- Important package for Scientific Computing\n",
    "- N-dimensional array object\n",
    "- More efficient than python objects\n",
    "- Also has Mathematical Functions\n",
    "- [Documentation](https://docs.scipy.org/doc/numpy/)\n",
    "\n",
    "Let's get started by importing the module"
   ]
  },
  {
   "cell_type": "code",
   "execution_count": null,
   "metadata": {},
   "outputs": [],
   "source": [
    "# Import NumPy\n",
    "import numpy as np"
   ]
  },
  {
   "cell_type": "markdown",
   "metadata": {},
   "source": [
    "## N-Dimensional Arrays \n",
    "\n",
    "N-dimensional arrays (ndarray), typically just called arrays, are the core data structure in Numpy.  Let's get started by creating some ndarrays\n",
    "\n",
    "###  1-D Arrays\n",
    "\n",
    "We can convert a list of sequence of data to a numpy array as follows: "
   ]
  },
  {
   "cell_type": "code",
   "execution_count": null,
   "metadata": {},
   "outputs": [],
   "source": [
    "test_array = np.array([1.0, 2.0, 3.0, 4.0, 5.0])\n",
    "test_array"
   ]
  },
  {
   "cell_type": "markdown",
   "metadata": {},
   "source": [
    "We can check the shape of the array via the following attribute; it returns a tuple describing the shape."
   ]
  },
  {
   "cell_type": "code",
   "execution_count": null,
   "metadata": {},
   "outputs": [],
   "source": [
    "test_array.shape"
   ]
  },
  {
   "cell_type": "markdown",
   "metadata": {},
   "source": [
    "### 2D Arrays\n",
    "\n",
    "Arrays can be multi dimensional.  Below we create an array with 2 rows and 5 columns."
   ]
  },
  {
   "cell_type": "code",
   "execution_count": null,
   "metadata": {},
   "outputs": [],
   "source": [
    "two_dim_test_array = np.array([[1,2,3,4,5],[6,7,8,9,10]])\n",
    "two_dim_test_array"
   ]
  },
  {
   "cell_type": "code",
   "execution_count": null,
   "metadata": {},
   "outputs": [],
   "source": [
    "two_dim_test_array.shape"
   ]
  },
  {
   "cell_type": "markdown",
   "metadata": {},
   "source": [
    "We can also check out the **ndim** attribute to find the number of dimensions in our array"
   ]
  },
  {
   "cell_type": "code",
   "execution_count": null,
   "metadata": {},
   "outputs": [],
   "source": [
    "two_dim_test_array.ndim"
   ]
  },
  {
   "cell_type": "markdown",
   "metadata": {},
   "source": [
    "### Datatypes in NumPy Arrays\n",
    "\n",
    "Numpy arrays datatypes are homogenous.  Datatypes available include:\n",
    "\n",
    "- int8, uint8\n",
    "- int16, uint16\n",
    "- int32, uint32\n",
    "- int64, uint64\n",
    "- float16\n",
    "- float32\n",
    "- plus more! \n",
    "\n",
    "Below we check the data type of an array and change it:"
   ]
  },
  {
   "cell_type": "code",
   "execution_count": null,
   "metadata": {},
   "outputs": [],
   "source": [
    "test_array"
   ]
  },
  {
   "cell_type": "code",
   "execution_count": null,
   "metadata": {},
   "outputs": [],
   "source": [
    "test_array.dtype"
   ]
  },
  {
   "cell_type": "markdown",
   "metadata": {},
   "source": [
    "Data types can also be specified at creation time."
   ]
  },
  {
   "cell_type": "code",
   "execution_count": null,
   "metadata": {},
   "outputs": [],
   "source": [
    "test_array_128 = np.array(test_array, dtype='float128')"
   ]
  },
  {
   "cell_type": "code",
   "execution_count": null,
   "metadata": {},
   "outputs": [],
   "source": [
    "test_array_128.dtype"
   ]
  },
  {
   "cell_type": "markdown",
   "metadata": {},
   "source": [
    "### Creating Numpy Arrays with Builtin Functions\n",
    "\n",
    "Numpy has built in functions which automatically create arrays.  \n",
    "\n",
    "Below we demo one option,  `np.arange`, which is essentially the same as range in Python\n",
    "\n",
    "`np.arange(start, stop, step_size)`"
   ]
  },
  {
   "cell_type": "code",
   "execution_count": null,
   "metadata": {},
   "outputs": [],
   "source": [
    "test_array = np.arange(1.0, 18., 2.3184)\n",
    "print(test_array)\n",
    "\n",
    "test_array.shape"
   ]
  },
  {
   "cell_type": "markdown",
   "metadata": {},
   "source": [
    "### Reshaping arrays\n",
    "\n",
    "We can reshape arrays as follows"
   ]
  },
  {
   "cell_type": "code",
   "execution_count": null,
   "metadata": {},
   "outputs": [],
   "source": [
    "print(test_array.reshape(4,2))"
   ]
  },
  {
   "cell_type": "code",
   "execution_count": null,
   "metadata": {},
   "outputs": [],
   "source": [
    "print(len(test_array.shape))"
   ]
  },
  {
   "cell_type": "markdown",
   "metadata": {},
   "source": [
    "Note, the `reshape()` function itself does not modify original array.  Need to assign the returned value to a variable. "
   ]
  },
  {
   "cell_type": "code",
   "execution_count": null,
   "metadata": {},
   "outputs": [],
   "source": [
    "test_array = test_array.reshape(4,2)"
   ]
  },
  {
   "cell_type": "code",
   "execution_count": null,
   "metadata": {},
   "outputs": [],
   "source": [
    "test_array.shape"
   ]
  },
  {
   "cell_type": "markdown",
   "metadata": {},
   "source": [
    "### Broadcasting arrays"
   ]
  },
  {
   "cell_type": "markdown",
   "metadata": {},
   "source": [
    "Below we demo some of the broadcasting rules for numpy arrays. To get started lets create a few arrays"
   ]
  },
  {
   "cell_type": "code",
   "execution_count": null,
   "metadata": {},
   "outputs": [],
   "source": [
    "array1=np.array([1,2,3,4,5,6,7,8])\n",
    "array2=2* np.arange(1,9,1)\n",
    "array2"
   ]
  },
  {
   "cell_type": "markdown",
   "metadata": {},
   "source": [
    "#### Combining Two 1D Arrays"
   ]
  },
  {
   "cell_type": "code",
   "execution_count": null,
   "metadata": {},
   "outputs": [],
   "source": [
    "array1 + array2"
   ]
  },
  {
   "cell_type": "code",
   "execution_count": null,
   "metadata": {},
   "outputs": [],
   "source": [
    "array1 / array2"
   ]
  },
  {
   "cell_type": "markdown",
   "metadata": {},
   "source": [
    "#### Broadcasting for Scalars and Arrays"
   ]
  },
  {
   "cell_type": "code",
   "execution_count": null,
   "metadata": {},
   "outputs": [],
   "source": [
    "2*array1"
   ]
  },
  {
   "cell_type": "code",
   "execution_count": null,
   "metadata": {},
   "outputs": [],
   "source": [
    "array1 > 3"
   ]
  },
  {
   "cell_type": "markdown",
   "metadata": {},
   "source": [
    "FYI, there are some interesting broadcasting rules for multidimensional arrays.  Check out the [docs](https://numpy.org/devdocs/user/basics.broadcasting.html?highlight=shape) for more information. "
   ]
  },
  {
   "cell_type": "markdown",
   "metadata": {},
   "source": [
    "### Slicing Arrays \n",
    "\n",
    "Below we demo a few ways to slice arrays.  See the figures above the code for visualization of output found."
   ]
  },
  {
   "cell_type": "code",
   "execution_count": null,
   "metadata": {},
   "outputs": [],
   "source": [
    "array = np.arange(1,8,1)\n",
    "test_array = np.array([array,3*array,5*array,7*array])\n",
    "test_array"
   ]
  },
  {
   "cell_type": "markdown",
   "metadata": {},
   "source": [
    "<img src=\"img/numpy1.jpg\" width=400>"
   ]
  },
  {
   "cell_type": "code",
   "execution_count": null,
   "metadata": {},
   "outputs": [],
   "source": [
    "print(test_array[2])"
   ]
  },
  {
   "cell_type": "markdown",
   "metadata": {},
   "source": [
    "<img src=\"img/numpy2.jpg\" width=400>"
   ]
  },
  {
   "cell_type": "code",
   "execution_count": null,
   "metadata": {},
   "outputs": [],
   "source": [
    "print(test_array[1:3])"
   ]
  },
  {
   "cell_type": "markdown",
   "metadata": {},
   "source": [
    "<img src=\"img/numpy3.jpg\" width=400>"
   ]
  },
  {
   "cell_type": "code",
   "execution_count": null,
   "metadata": {},
   "outputs": [],
   "source": [
    "print(test_array[2,5])"
   ]
  },
  {
   "cell_type": "markdown",
   "metadata": {},
   "source": [
    "<img src=\"img/numpy4.jpg\" width=400>"
   ]
  },
  {
   "cell_type": "code",
   "execution_count": null,
   "metadata": {},
   "outputs": [],
   "source": [
    "print(test_array[1:3, 2:5])"
   ]
  },
  {
   "cell_type": "markdown",
   "metadata": {},
   "source": [
    "<a id='matplotlib'></a>\n",
    "\n",
    "# Matplotlib\n",
    "\n",
    "Matplotlib has two styles interfaces when using the library: \n",
    "\n",
    "- explicit \"axes\" interface\n",
    "   * gives user full control over the figure \n",
    "   * harder to use, but gives user more control\n",
    "- implicit \"pyplot\" interface\n",
    "   * matplotlib infers what user wants\n",
    "   * easier to use, but give user less control\n",
    "   \n",
    "Read the [docs](https://matplotlib.org/devdocs/users/explain/api_interfaces.html) for more information\n",
    "   \n",
    "## pyplot interface"
   ]
  },
  {
   "cell_type": "code",
   "execution_count": null,
   "metadata": {},
   "outputs": [],
   "source": [
    "# For plots inline in notebook\n",
    "%matplotlib inline \n",
    "\n",
    "# Import matplotlib\n",
    "import matplotlib.pyplot as plt"
   ]
  },
  {
   "cell_type": "markdown",
   "metadata": {},
   "source": [
    "In the demo below we create several plots with the same data.  Note that in the various demos we just change a few parameters to change things like the color of the graph, scatter versus plot, etc. "
   ]
  },
  {
   "cell_type": "code",
   "execution_count": null,
   "metadata": {},
   "outputs": [],
   "source": [
    "# Setup X and Y values\n",
    "x = np.linspace(0,25, 20)\n",
    "y = np.sqrt(x)\n",
    "\n",
    "# Create plot\n",
    "plt.xlabel('This is X label')\n",
    "plt.ylabel('This is Y label')\n",
    "plt.plot(x,y);"
   ]
  },
  {
   "cell_type": "code",
   "execution_count": null,
   "metadata": {},
   "outputs": [],
   "source": [
    "# Blue circles\n",
    "plt.xlabel('This is X label')\n",
    "plt.ylabel('This is Y label')\n",
    "plt.plot(x,y,'o');"
   ]
  },
  {
   "cell_type": "code",
   "execution_count": null,
   "metadata": {},
   "outputs": [],
   "source": [
    "# Red circles\n",
    "plt.xlabel('This is X label')\n",
    "plt.ylabel('This is Y label')\n",
    "plt.plot(x,y,'ro');"
   ]
  },
  {
   "cell_type": "code",
   "execution_count": null,
   "metadata": {},
   "outputs": [],
   "source": [
    "# Green Lines\n",
    "plt.xlabel('This is X label')\n",
    "plt.ylabel('This is Y label')\n",
    "plt.plot(x,y, 'g-');"
   ]
  },
  {
   "cell_type": "code",
   "execution_count": null,
   "metadata": {},
   "outputs": [],
   "source": [
    "# Dotted Lines\n",
    "plt.xlabel('This is X label')\n",
    "plt.ylabel('This is Y label')\n",
    "plt.plot(x,y,'--');"
   ]
  },
  {
   "cell_type": "code",
   "execution_count": null,
   "metadata": {},
   "outputs": [],
   "source": [
    "# Bar Plot (histogram)\n",
    "plt.xlabel('This is X label')\n",
    "plt.ylabel('This is Y label')\n",
    "plt.bar(x,y);"
   ]
  },
  {
   "cell_type": "markdown",
   "metadata": {},
   "source": [
    "## Axes interface\n",
    "\n",
    "In the demo below we will create two plots in one figure using the axes interface.  The two plots will show a sine and cosine wave"
   ]
  },
  {
   "cell_type": "code",
   "execution_count": null,
   "metadata": {},
   "outputs": [],
   "source": [
    "#get data for plot demo\n",
    "x=np.arange(0,1,0.025)\n",
    "y1=10*np.cos(2*np.pi*5*x)\n",
    "y2=10*np.sin(2*np.pi*5*x)"
   ]
  },
  {
   "cell_type": "code",
   "execution_count": null,
   "metadata": {},
   "outputs": [],
   "source": [
    "fig, axs = plt.subplots(2,1)"
   ]
  },
  {
   "cell_type": "markdown",
   "metadata": {},
   "source": [
    "Above we instantiated a fig and axs object used to control a figure. The diagram below highlights what these two objects control:\n",
    "\n",
    "![](img/axes_matplotlib.png)\n",
    "\n",
    "`.tight_layout()` is an example of a fig method. "
   ]
  },
  {
   "cell_type": "code",
   "execution_count": null,
   "metadata": {},
   "outputs": [],
   "source": [
    "fig, axs = plt.subplots(2,1)\n",
    "fig.tight_layout()"
   ]
  },
  {
   "cell_type": "markdown",
   "metadata": {},
   "source": [
    "Note that since there are multiple figures in this plot, there are multiple axes objects we can control."
   ]
  },
  {
   "cell_type": "code",
   "execution_count": null,
   "metadata": {},
   "outputs": [],
   "source": [
    "axs.shape,axs"
   ]
  },
  {
   "cell_type": "code",
   "execution_count": null,
   "metadata": {},
   "outputs": [],
   "source": [
    "fig, axs = plt.subplots(2,1)\n",
    "axs[0].plot(x,y1,'r-')\n",
    "axs[1].plot(x,y2,'k--')\n",
    "axs[1].set_xlabel('This is X label')\n",
    "axs[0].set_ylabel('This is Y label 1')\n",
    "axs[1].set_ylabel('This is Y label 2')\n",
    "fig.tight_layout();"
   ]
  },
  {
   "cell_type": "code",
   "execution_count": null,
   "metadata": {},
   "outputs": [],
   "source": [
    "random_image = np.random.rand(50,50)"
   ]
  },
  {
   "cell_type": "code",
   "execution_count": null,
   "metadata": {},
   "outputs": [],
   "source": [
    "fig,ax=plt.subplots()\n",
    "ax.imshow(random_image);"
   ]
  },
  {
   "cell_type": "markdown",
   "metadata": {},
   "source": [
    "<a id='pandas'></a>\n",
    "\n",
    "# Pandas \n",
    "\n",
    "- Python package that builds upon numpy arrays\n",
    "- Useful in data analysis\n",
    "- Common manipulations of arrays\n",
    "- [Pandas Documentation](http://pandas.pydata.org/)\n",
    "\n",
    "Two main data structures in Pandas are:\n",
    "\n",
    "- Series (1D array; column of a table)\n",
    "    * Useful for sequence data like time series \n",
    "- Dataframes (2D array where each column has its own data type; table of data)\n",
    "    * Useful for spreadsheet like data\n",
    "\n",
    "<img src='https://external-content.duckduckgo.com/iu/?u=https%3A%2F%2Fstorage.googleapis.com%2Flds-media%2Fimages%2Fseries-and-dataframe.width-1200.png&f=1&nofb=' width=600 />\n",
    "\n",
    "Below we will cover how to create and manipulate both data structures.\n",
    "\n",
    "## Series "
   ]
  },
  {
   "cell_type": "code",
   "execution_count": null,
   "metadata": {},
   "outputs": [],
   "source": [
    "import pandas as pd\n",
    "from pandas import Series, DataFrame"
   ]
  },
  {
   "cell_type": "markdown",
   "metadata": {},
   "source": [
    "We can create a series from a python list with data."
   ]
  },
  {
   "cell_type": "code",
   "execution_count": null,
   "metadata": {},
   "outputs": [],
   "source": [
    "test_series = Series([1, 2, 4, -7, -10 , 20])\n",
    "test_series"
   ]
  },
  {
   "cell_type": "markdown",
   "metadata": {},
   "source": [
    "Pandas is built on top of numpy. We can use the `.values` attribute to convert the series into a numpy array."
   ]
  },
  {
   "cell_type": "code",
   "execution_count": null,
   "metadata": {},
   "outputs": [],
   "source": [
    "test_series.values"
   ]
  },
  {
   "cell_type": "markdown",
   "metadata": {},
   "source": [
    "Unlike arrays, we can customize the index and access elements via the new index."
   ]
  },
  {
   "cell_type": "code",
   "execution_count": null,
   "metadata": {},
   "outputs": [],
   "source": [
    "test_series = Series([1, 2, 4, -7, -10, 20], index=[\"x\", \"y\", \"a\", \"d\", \"e\", \"c\"])\n",
    "test_series"
   ]
  },
  {
   "cell_type": "code",
   "execution_count": null,
   "metadata": {},
   "outputs": [],
   "source": [
    "test_series['d']"
   ]
  },
  {
   "cell_type": "markdown",
   "metadata": {},
   "source": [
    "We can slice the index by passing a list of indicies."
   ]
  },
  {
   "cell_type": "code",
   "execution_count": null,
   "metadata": {},
   "outputs": [],
   "source": [
    "test_series[['x', 'd', 'e']]"
   ]
  },
  {
   "cell_type": "markdown",
   "metadata": {},
   "source": [
    "Scalar multiplication distributes through the series. "
   ]
  },
  {
   "cell_type": "code",
   "execution_count": null,
   "metadata": {},
   "outputs": [],
   "source": [
    "test_series*2"
   ]
  },
  {
   "cell_type": "markdown",
   "metadata": {},
   "source": [
    "We can also create a Series using a dictionary that specifies the index (key).  "
   ]
  },
  {
   "cell_type": "code",
   "execution_count": null,
   "metadata": {},
   "outputs": [],
   "source": [
    "test_dictionary = dict({\"one\":1, \"two\":2, \"three\":3, \"four\":4})\n",
    "test_series = Series(test_dictionary)\n",
    "\n",
    "print(test_series)"
   ]
  },
  {
   "cell_type": "markdown",
   "metadata": {},
   "source": [
    "If we add in an additional index with no value associated with it, pandas will and a NaN Value. "
   ]
  },
  {
   "cell_type": "code",
   "execution_count": null,
   "metadata": {},
   "outputs": [],
   "source": [
    "#data with null/NA values\n",
    "test_index = [\"one\", \"two\", \"three\", \"four\", \"five\"]\n",
    "test_series = Series(test_dictionary, index=test_index)\n",
    "print(test_series)"
   ]
  },
  {
   "cell_type": "markdown",
   "metadata": {},
   "source": [
    "We can find where null values do or do not exist in a Series with `isnull()` and `notnull()`"
   ]
  },
  {
   "cell_type": "code",
   "execution_count": null,
   "metadata": {},
   "outputs": [],
   "source": [
    "pd.isnull(test_series)"
   ]
  },
  {
   "cell_type": "code",
   "execution_count": null,
   "metadata": {},
   "outputs": [],
   "source": [
    "pd.notnull(test_series)"
   ]
  },
  {
   "cell_type": "markdown",
   "metadata": {},
   "source": [
    "We can sum series.  Let's try it out."
   ]
  },
  {
   "cell_type": "code",
   "execution_count": null,
   "metadata": {},
   "outputs": [],
   "source": [
    "test_series"
   ]
  },
  {
   "cell_type": "code",
   "execution_count": null,
   "metadata": {},
   "outputs": [],
   "source": [
    "test_series_2 = Series({\"one\":1, \"two\":2, \"three\":3, \"five\":5})\n",
    "test_series_2"
   ]
  },
  {
   "cell_type": "code",
   "execution_count": null,
   "metadata": {},
   "outputs": [],
   "source": [
    "test_series + test_series_2"
   ]
  },
  {
   "cell_type": "code",
   "execution_count": null,
   "metadata": {},
   "outputs": [],
   "source": []
  },
  {
   "cell_type": "markdown",
   "metadata": {},
   "source": [
    "## Dataframes\n",
    "\n",
    "We can create dataframes from multiple python datatypes.  Let's start with data stored in a dictionary where the key is a column name and the values are list of data. "
   ]
  },
  {
   "cell_type": "code",
   "execution_count": null,
   "metadata": {},
   "outputs": [],
   "source": [
    "data = {'state': ['Ohio', 'Ohio', 'Ohio', 'Nevada', 'Nevada'], \n",
    "        'year': [2000, 2001, 2002, 2001, 2002],\n",
    "        'pop': [1.5, 1.7, 3.6, 2.4, 2.9]}"
   ]
  },
  {
   "cell_type": "code",
   "execution_count": null,
   "metadata": {},
   "outputs": [],
   "source": [
    "test_data_frame = DataFrame(data)\n",
    "test_data_frame"
   ]
  },
  {
   "cell_type": "markdown",
   "metadata": {},
   "source": [
    "We can change the order of the columns by passing in the order."
   ]
  },
  {
   "cell_type": "code",
   "execution_count": null,
   "metadata": {},
   "outputs": [],
   "source": [
    "# Change column sequence\n",
    "test_data_frame = DataFrame(data, columns=['year', 'state', 'pop'])\n",
    "test_data_frame"
   ]
  },
  {
   "cell_type": "markdown",
   "metadata": {},
   "source": [
    "If we pass a column name that does not exist in our data, the column will become NaN.  "
   ]
  },
  {
   "cell_type": "code",
   "execution_count": null,
   "metadata": {},
   "outputs": [],
   "source": [
    "test_data_frame = DataFrame(data, columns=['year', 'state', 'pop','debt'])\n",
    "test_data_frame"
   ]
  },
  {
   "cell_type": "markdown",
   "metadata": {},
   "source": [
    "We can also specify index, or row names."
   ]
  },
  {
   "cell_type": "code",
   "execution_count": null,
   "metadata": {},
   "outputs": [],
   "source": [
    "# Change row names just like in Series\n",
    "test_data_frame = DataFrame(data, columns=['year', 'state', 'pop'], \n",
    "                            index=['row one', 'row two', 'row three', 'row four', 'row five'])\n",
    "test_data_frame"
   ]
  },
  {
   "cell_type": "markdown",
   "metadata": {},
   "source": [
    "I can use a list of column names to query a dataframe for specific columns"
   ]
  },
  {
   "cell_type": "code",
   "execution_count": null,
   "metadata": {},
   "outputs": [],
   "source": [
    "test_data_frame[['year', 'state']]"
   ]
  },
  {
   "cell_type": "markdown",
   "metadata": {},
   "source": [
    "I can assign values to columns in multiple ways"
   ]
  },
  {
   "cell_type": "code",
   "execution_count": null,
   "metadata": {},
   "outputs": [],
   "source": [
    "test_data_frame['debt'] = 25\n",
    "test_data_frame"
   ]
  },
  {
   "cell_type": "code",
   "execution_count": null,
   "metadata": {},
   "outputs": [],
   "source": [
    "# Assigning a column a vector value\n",
    "test_data_frame['debt'] = np.arange(1,6,1)\n",
    "test_data_frame"
   ]
  },
  {
   "cell_type": "code",
   "execution_count": null,
   "metadata": {},
   "outputs": [],
   "source": [
    "# pass a series\n",
    "new_data = Series([1.2, 2.4, 5.7],index=['row two', 'row three', 'row five'])\n",
    "test_data_frame['debt'] = new_data\n",
    "test_data_frame"
   ]
  },
  {
   "cell_type": "code",
   "execution_count": null,
   "metadata": {},
   "outputs": [],
   "source": [
    "# Row shuffle\n",
    "test_data_frame.reindex(['row five', 'row four', 'row three', 'row two', 'row one'])"
   ]
  },
  {
   "cell_type": "markdown",
   "metadata": {},
   "source": [
    "We can do mathematical operations like summing rows and columns "
   ]
  },
  {
   "cell_type": "code",
   "execution_count": null,
   "metadata": {},
   "outputs": [],
   "source": [
    "test_data_frame.sum() # sum columns"
   ]
  },
  {
   "cell_type": "code",
   "execution_count": null,
   "metadata": {},
   "outputs": [],
   "source": [
    "test_data_frame.sum(axis=1,numeric_only=True) # sum rows, skips over nonnumeric cells"
   ]
  },
  {
   "cell_type": "markdown",
   "metadata": {},
   "source": [
    "We can also join two dataframes together. "
   ]
  },
  {
   "cell_type": "code",
   "execution_count": null,
   "metadata": {},
   "outputs": [],
   "source": [
    "\n",
    "data_frame_1 = DataFrame({'lkey': ['b', 'b', 'a', 'c', 'a', 'a', 'b'], \n",
    "                          'data1': range(7)})\n",
    "data_frame_1"
   ]
  },
  {
   "cell_type": "code",
   "execution_count": null,
   "metadata": {},
   "outputs": [],
   "source": [
    "data_frame_2 = DataFrame({'rkey': ['a', 'b', 'd'],\n",
    "                          'data2': range(3)})\n",
    "data_frame_2"
   ]
  },
  {
   "cell_type": "code",
   "execution_count": null,
   "metadata": {},
   "outputs": [],
   "source": [
    "pd.merge(data_frame_1, data_frame_2,left_on='lkey', right_on='rkey')"
   ]
  },
  {
   "cell_type": "markdown",
   "metadata": {},
   "source": [
    "<a id='scikit-learn'></a>\n",
    "\n",
    "# Scikit-Learn \n",
    "\n",
    "Scikit-learn is a machine-learning library for Python.  It includes a variety of machine learning learning algorithms for classification, regression, clustering, etc. \n",
    "\n",
    "Below we demos some of the basics functionality of scikit-learn.  \n",
    "\n",
    "## Simple Linear Regression\n",
    "\n",
    "We will start with a demo of building a simple linear regression model.  Let's start by importing the needed libraries from sklearn."
   ]
  },
  {
   "cell_type": "code",
   "execution_count": null,
   "metadata": {},
   "outputs": [],
   "source": [
    "from sklearn.linear_model import LinearRegression"
   ]
  },
  {
   "cell_type": "markdown",
   "metadata": {},
   "source": [
    "If you get an error message you may need to install sklearn.  You can do that by uncommenting the line below. "
   ]
  },
  {
   "cell_type": "code",
   "execution_count": null,
   "metadata": {},
   "outputs": [],
   "source": [
    "#! pip3 install --user scikit-learn"
   ]
  },
  {
   "cell_type": "markdown",
   "metadata": {},
   "source": [
    "Next, lets use numpy to create random data that has a linear relationship where the slope is 0.5 and the y-intercept is 3.  Two data sets are built for training and testing purposes. "
   ]
  },
  {
   "cell_type": "code",
   "execution_count": null,
   "metadata": {},
   "outputs": [],
   "source": [
    "slope = 0.5\n",
    "intercept = 3\n",
    "\n",
    "X = np.linspace(0,3,30)\n",
    "y = slope * X + intercept + 0.1*np.random.normal(size=len(X))\n",
    "X_test = np.linspace(0,3,20)\n",
    "y_test = slope * X_test + intercept + 0.1*np.random.normal(size=len(X_test))"
   ]
  },
  {
   "cell_type": "markdown",
   "metadata": {},
   "source": [
    "Below we plot this data:"
   ]
  },
  {
   "cell_type": "code",
   "execution_count": null,
   "metadata": {},
   "outputs": [],
   "source": [
    "fig,ax = plt.subplots()\n",
    "ax.scatter(X,y,c='r',label='train data')\n",
    "ax.scatter(X_test,y_test,c='b',label='test data')\n",
    "ax.set_xlabel('Features')\n",
    "ax.set_ylabel('Target')\n",
    "ax.legend();"
   ]
  },
  {
   "cell_type": "markdown",
   "metadata": {},
   "source": [
    "Next we will need to instantiate the object for the model we want to build.  In this first demo, we will use linear regression."
   ]
  },
  {
   "cell_type": "code",
   "execution_count": null,
   "metadata": {},
   "outputs": [],
   "source": [
    "reg = LinearRegression()"
   ]
  },
  {
   "cell_type": "markdown",
   "metadata": {},
   "source": [
    "Next we fit the model to the training data by calling the method 'fit()' and passing in the training data. "
   ]
  },
  {
   "cell_type": "code",
   "execution_count": null,
   "metadata": {},
   "outputs": [],
   "source": [
    "reg.fit(X.reshape(-1,1),y)"
   ]
  },
  {
   "cell_type": "markdown",
   "metadata": {},
   "source": [
    "Once our model is fit we can view attributes associated with the linear regression model such as the slope and intercept:"
   ]
  },
  {
   "cell_type": "code",
   "execution_count": null,
   "metadata": {},
   "outputs": [],
   "source": [
    "reg.coef_ # slope"
   ]
  },
  {
   "cell_type": "code",
   "execution_count": null,
   "metadata": {},
   "outputs": [],
   "source": [
    "reg.intercept_ # intercept "
   ]
  },
  {
   "cell_type": "markdown",
   "metadata": {},
   "source": [
    "Finally we can use our model to make predictions by using the `predict()` method."
   ]
  },
  {
   "cell_type": "code",
   "execution_count": null,
   "metadata": {},
   "outputs": [],
   "source": [
    "reg.predict(np.array([[1.5]]))"
   ]
  },
  {
   "cell_type": "code",
   "execution_count": null,
   "metadata": {},
   "outputs": [],
   "source": [
    "fig,ax = plt.subplots()\n",
    "ax.scatter(X,y,c='r',label='train data')\n",
    "ax.scatter(X_test,y_test,c='b',label='test data')\n",
    "ax.plot(X,reg.predict(X.reshape(-1,1)),'k-',label='prediction')\n",
    "ax.set_xlabel('Features')\n",
    "ax.set_ylabel('Target')\n",
    "ax.legend();"
   ]
  },
  {
   "cell_type": "markdown",
   "metadata": {},
   "source": [
    "scikit-learn also has many helpful functions for evaluating models.  Below we demo code for computing the $R^2$ value of our linear regression model. "
   ]
  },
  {
   "cell_type": "code",
   "execution_count": null,
   "metadata": {},
   "outputs": [],
   "source": [
    "from sklearn.metrics import r2_score\n",
    "\n",
    "yhat = reg.predict(X_test.reshape(-1,1))\n",
    "print('The R squared valued is {}'.format(r2_score(y_test,yhat)))"
   ]
  },
  {
   "cell_type": "markdown",
   "metadata": {},
   "source": [
    "## Random Forest\n",
    "\n",
    "The syntax used to build other models is very similar to linear regression.  To demo this, we use the same random data generated above and build a Random Forest model."
   ]
  },
  {
   "cell_type": "code",
   "execution_count": null,
   "metadata": {},
   "outputs": [],
   "source": [
    "from sklearn.ensemble import RandomForestRegressor"
   ]
  },
  {
   "cell_type": "code",
   "execution_count": null,
   "metadata": {},
   "outputs": [],
   "source": [
    "regr = RandomForestRegressor(max_depth=2, random_state=0)"
   ]
  },
  {
   "cell_type": "code",
   "execution_count": null,
   "metadata": {},
   "outputs": [],
   "source": [
    "regr.fit(X.reshape(-1,1),y)"
   ]
  },
  {
   "cell_type": "code",
   "execution_count": null,
   "metadata": {},
   "outputs": [],
   "source": [
    "regr.predict(np.array([[1.5]]))"
   ]
  },
  {
   "cell_type": "code",
   "execution_count": null,
   "metadata": {},
   "outputs": [],
   "source": [
    "fig,ax = plt.subplots()\n",
    "ax.scatter(X,y,c='r',label='train data')\n",
    "ax.scatter(X_test,y_test,c='b',label='test data')\n",
    "ax.plot(X,reg.predict(X.reshape(-1,1)),'k-',label='LR prediction')\n",
    "ax.plot(X,regr.predict(X.reshape(-1,1)),'k--',label='RF prediction')\n",
    "ax.set_xlabel('Features')\n",
    "ax.set_ylabel('Target')\n",
    "ax.legend();"
   ]
  },
  {
   "cell_type": "code",
   "execution_count": null,
   "metadata": {},
   "outputs": [],
   "source": [
    "yhat = regr.predict(X_test.reshape(-1,1))\n",
    "print('The R squared valued is {}'.format(r2_score(y_test,yhat)))"
   ]
  },
  {
   "cell_type": "markdown",
   "metadata": {},
   "source": [
    "<a id='dask'></a>\n",
    "\n",
    "# Dask \n",
    "\n",
    "Dask is a python library for parallel computation.  Dask is built on top of the already existing python data science ecosystem including the popular libraries such as pandas, numpy, and sklearn making it easy to use for python users, while also allowing users to scale up their code to leverage high performance computing environments.  Dask has high and low level interfaces:\n",
    "\n",
    "- High level collections: Array, Bags, and Dataframes that mimic the python ecosystem (pandas, numpy, etc.) but also parallelizes the code for data that doesn't fit in memory.\n",
    "- Low level schedulers: task schedulers that allow users to leverage HPC environments.\n",
    "\n",
    "To learn more about Dask checkout [this dask tutorial](https://github.com/dask/dask-tutorial).    "
   ]
  },
  {
   "cell_type": "code",
   "execution_count": null,
   "metadata": {},
   "outputs": [],
   "source": []
  }
 ],
 "metadata": {
  "kernelspec": {
   "display_name": "cnn_course_container",
   "language": "python",
   "name": "cnn_course_container"
  },
  "language_info": {
   "codemirror_mode": {
    "name": "ipython",
    "version": 3
   },
   "file_extension": ".py",
   "mimetype": "text/x-python",
   "name": "python",
   "nbconvert_exporter": "python",
   "pygments_lexer": "ipython3",
   "version": "3.10.12"
  },
  "toc": {
   "base_numbering": 1,
   "nav_menu": {},
   "number_sections": true,
   "sideBar": true,
   "skip_h1_title": false,
   "title_cell": "Table of Contents",
   "title_sidebar": "Contents",
   "toc_cell": false,
   "toc_position": {
    "height": "calc(100% - 180px)",
    "left": "10px",
    "top": "150px",
    "width": "243.717px"
   },
   "toc_section_display": true,
   "toc_window_display": false
  }
 },
 "nbformat": 4,
 "nbformat_minor": 1
}
